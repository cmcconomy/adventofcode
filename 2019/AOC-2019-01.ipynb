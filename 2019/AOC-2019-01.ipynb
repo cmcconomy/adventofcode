{
 "cells": [
  {
   "cell_type": "code",
   "execution_count": 2,
   "metadata": {},
   "outputs": [],
   "source": [
    "import pandas as pd\n",
    "import numpy as np\n",
    "\n",
    "from aocutils.get_aoc_inputs import get_aoc_inputs"
   ]
  },
  {
   "cell_type": "code",
   "execution_count": 3,
   "metadata": {
    "scrolled": true
   },
   "outputs": [
    {
     "name": "stdout",
     "output_type": "stream",
     "text": [
      "Part 1 test successful\n",
      "3363760\n",
      "Part 2 test successful\n",
      "5042767\n"
     ]
    }
   ],
   "source": [
    "# Day 1\n",
    "\n",
    "if 'inputs' not in locals():\n",
    "    inputs = get_aoc_inputs(1)\n",
    "\n",
    "def get_fuel(mass):\n",
    "    fuel = mass/3\n",
    "    fuel = int(fuel) - 2\n",
    "    return fuel\n",
    "    \n",
    "def test_get_fuel(mass,fuel):\n",
    "    tested_fuel = get_fuel(mass)\n",
    "    assert tested_fuel == fuel, \"Fuel for %d should be %d but was %d\" % (mass, fuel, tested_fuel)\n",
    "\n",
    "def test_part1():\n",
    "    test_get_fuel(12,2)\n",
    "    test_get_fuel(14,2)\n",
    "    test_get_fuel(1969,654)\n",
    "    test_get_fuel(100756,33583)\n",
    "    print(\"Part 1 test successful\")\n",
    "    \n",
    "def day1():\n",
    "    test_part1();\n",
    "    total_fuel = 0;\n",
    "    for input in inputs:\n",
    "        total_fuel = total_fuel + get_fuel(int(input))\n",
    "        \n",
    "    print(total_fuel)\n",
    "\n",
    "# ------------------------------------------------------------------------------------------\n",
    "\n",
    "def fuel_for_fuel(fuel, total_extra_fuel=0):\n",
    "    extra_fuel = get_fuel(fuel)\n",
    "    if extra_fuel <= 0:\n",
    "        return total_extra_fuel\n",
    "    else:\n",
    "        total_extra_fuel += extra_fuel\n",
    "        return fuel_for_fuel(extra_fuel,total_extra_fuel)\n",
    "\n",
    "def test_fuel_for_fuel(mass,fuel):\n",
    "    tested_fuel = get_fuel(mass)\n",
    "    tested_fuel += fuel_for_fuel(tested_fuel)\n",
    "    assert tested_fuel == fuel, \"Fuel for %d should be %d but was %d\" % (mass, fuel, tested_fuel)\n",
    "\n",
    "def test_part2():\n",
    "    test_fuel_for_fuel(14,2)\n",
    "    test_fuel_for_fuel(1969,966)\n",
    "    test_fuel_for_fuel(100756,50346)\n",
    "    print(\"Part 2 test successful\")\n",
    "\n",
    "def day2():\n",
    "    test_part2();\n",
    "    total_fuel = 0;\n",
    "    for input in inputs:\n",
    "        fuel = get_fuel(int(input))\n",
    "        total_fuel = total_fuel + fuel + fuel_for_fuel(fuel)\n",
    "        \n",
    "    print(total_fuel)\n",
    "\n",
    "day1()\n",
    "day2()"
   ]
  }
 ],
 "metadata": {
  "kernelspec": {
   "display_name": "Python 3",
   "language": "python",
   "name": "python3"
  },
  "language_info": {
   "codemirror_mode": {
    "name": "ipython",
    "version": 3
   },
   "file_extension": ".py",
   "mimetype": "text/x-python",
   "name": "python",
   "nbconvert_exporter": "python",
   "pygments_lexer": "ipython3",
   "version": "3.8.0"
  }
 },
 "nbformat": 4,
 "nbformat_minor": 2
}
