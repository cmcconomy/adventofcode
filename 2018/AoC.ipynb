{
  "nbformat": 4,
  "nbformat_minor": 0,
  "metadata": {
    "colab": {
      "name": "Untitled0.ipynb",
      "version": "0.3.2",
      "provenance": []
    },
    "kernelspec": {
      "name": "python3",
      "display_name": "Python 3"
    }
  },
  "cells": [
    {
      "metadata": {
        "id": "ktmpGYzUgzCy",
        "colab_type": "text"
      },
      "cell_type": "markdown",
      "source": [
        "# Advent of Code 2018\n",
        "http://adventofcode.com/2018/"
      ]
    },
    {
      "metadata": {
        "id": "v-8UOfDKg7N2",
        "colab_type": "text"
      },
      "cell_type": "markdown",
      "source": [
        "## Day 0\n",
        "Helper methods and library imports"
      ]
    },
    {
      "metadata": {
        "id": "EGoneV16hHhx",
        "colab_type": "code",
        "colab": {}
      },
      "cell_type": "code",
      "source": [
        "import pandas as pd\n",
        "import numpy as np\n",
        "import matplotlib.pyplot as plt"
      ],
      "execution_count": 0,
      "outputs": []
    },
    {
      "metadata": {
        "id": "g8Fsd5MehenC",
        "colab_type": "code",
        "colab": {}
      },
      "cell_type": "code",
      "source": [
        "def clean_input( input_string ):\n",
        "  \"clean all the garbage out of the string\"\n",
        "  return input_string.strip()\n",
        "\n",
        "def split( input_string, splitter='\\n' ):\n",
        "  \"split the input into sections - typically newlines\"\n",
        "  return clean_input(input_string).split(splitter)"
      ],
      "execution_count": 0,
      "outputs": []
    },
    {
      "metadata": {
        "id": "wohUJ-HhjvSY",
        "colab_type": "text"
      },
      "cell_type": "markdown",
      "source": [
        "## Raw Input\n",
        "This section contains the raw-data inputs for each day."
      ]
    },
    {
      "metadata": {
        "id": "-XEXf7U8j1Z6",
        "colab_type": "code",
        "colab": {}
      },
      "cell_type": "code",
      "source": [
        "raw_input = {\n",
        "    \"1a\": \"\",\n",
        "    \"1b\": \"\",\n",
        "    \n",
        "    \"2a\": \"\",\n",
        "    \"2b\": \"\",\n",
        "    \n",
        "    \"3a\": \"\",\n",
        "    \"3b\": \"\",\n",
        "    \n",
        "    \"4a\": \"\",\n",
        "    \"4b\": \"\",\n",
        "    \n",
        "    \"5a\": \"\",\n",
        "    \"5b\": \"\",\n",
        "    \n",
        "    \"6a\": \"\",\n",
        "    \"6b\": \"\",\n",
        "    \n",
        "    \"7a\": \"\",\n",
        "    \"7b\": \"\",\n",
        "    \n",
        "    \"8a\": \"\",\n",
        "    \"8b\": \"\",\n",
        "    \n",
        "    \"9a\": \"\",\n",
        "    \"9b\": \"\",\n",
        "    \n",
        "    \"10a\": \"\",\n",
        "    \"10b\": \"\",\n",
        "    \n",
        "    \"11a\": \"\",\n",
        "    \"11b\": \"\",\n",
        "    \n",
        "    \"12a\": \"\",\n",
        "    \"12b\": \"\",\n",
        "    \n",
        "    \"13a\": \"\",\n",
        "    \"13b\": \"\",\n",
        "    \n",
        "    \"14a\": \"\",\n",
        "    \"14b\": \"\",\n",
        "    \n",
        "    \"15a\": \"\",\n",
        "    \"15b\": \"\",\n",
        "    \n",
        "    \"16a\": \"\",\n",
        "    \"16b\": \"\",\n",
        "    \n",
        "    \"17a\": \"\",\n",
        "    \"17b\": \"\",\n",
        "    \n",
        "    \"18a\": \"\",\n",
        "    \"18b\": \"\",\n",
        "    \n",
        "    \"19a\": \"\",\n",
        "    \"19b\": \"\",\n",
        "\n",
        "    \"20a\": \"\",\n",
        "    \"20b\": \"\",\n",
        "    \n",
        "    \"21a\": \"\",\n",
        "    \"21b\": \"\",\n",
        "    \n",
        "    \"22a\": \"\",\n",
        "    \"22b\": \"\",\n",
        "    \n",
        "    \"23a\": \"\",\n",
        "    \"23b\": \"\",\n",
        "    \n",
        "    \"24a\": \"\",\n",
        "    \"24b\": \"\",\n",
        "    \n",
        "    \"25a\": \"\",\n",
        "    \"25b\": \"\"\n",
        "}"
      ],
      "execution_count": 0,
      "outputs": []
    },
    {
      "metadata": {
        "id": "YUx1rH8RiWRo",
        "colab_type": "text"
      },
      "cell_type": "markdown",
      "source": [
        "## Day 1\n"
      ]
    },
    {
      "metadata": {
        "id": "BHlUSeMpi9DL",
        "colab_type": "text"
      },
      "cell_type": "markdown",
      "source": [
        "### Part 1a"
      ]
    },
    {
      "metadata": {
        "id": "CJx7xcdCid0I",
        "colab_type": "code",
        "colab": {}
      },
      "cell_type": "code",
      "source": [
        "input = split(raw_input[\"1a\"])\n"
      ],
      "execution_count": 0,
      "outputs": []
    },
    {
      "metadata": {
        "colab_type": "text",
        "id": "dJo8BmXck-cG"
      },
      "cell_type": "markdown",
      "source": [
        "###Part 1b"
      ]
    },
    {
      "metadata": {
        "colab_type": "code",
        "id": "b1Xmh_EKk-cK",
        "colab": {}
      },
      "cell_type": "code",
      "source": [
        "input = split(raw_input[\"1b\"])\n"
      ],
      "execution_count": 0,
      "outputs": []
    }
  ]
}