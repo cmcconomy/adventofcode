{
 "cells": [
  {
   "cell_type": "code",
   "execution_count": 1,
   "metadata": {},
   "outputs": [],
   "source": [
    "import pandas as pd\n",
    "import numpy as np\n",
    "\n",
    "from aocutils.get_aoc_inputs import get_aoc_inputs\n",
    "from aocutils.IntCode import IntCode"
   ]
  },
  {
   "cell_type": "code",
   "execution_count": 3,
   "metadata": {},
   "outputs": [
    {
     "name": "stdout",
     "output_type": "stream",
     "text": [
      "Array at position 0 is 3895705\n",
      "Found correct nounverb: 6417\n"
     ]
    }
   ],
   "source": [
    "# Day 2\n",
    "\n",
    "if 'inputs' not in locals():\n",
    "    inputs = get_aoc_inputs(2)[0].split(',')\n",
    "    inputs = list(map(lambda num: int(num),inputs))\n",
    "    \n",
    "test_inputs = [\n",
    "    {\"test_in\":[1,9,10,3,2,3,11,0,99,30,40,50], \"test_out\":[3500,9,10,70,2,3,11,0,99,30,40,50]},\n",
    "    {\"test_in\":[1,0,0,0,99],                    \"test_out\":[2,0,0,0,99]},\n",
    "    {\"test_in\":[2,3,0,3,99],                    \"test_out\":[2,3,0,6,99]},\n",
    "    {\"test_in\":[2,4,4,5,99,0],                  \"test_out\":[2,4,4,5,99,9801]},\n",
    "    {\"test_in\":[1,1,1,4,99,5,6,0,99],           \"test_out\":[30,1,1,4,2,5,6,0,99]},\n",
    "]\n",
    "\n",
    "    \n",
    "def test_day2_part1():\n",
    "    for test_input in test_inputs:\n",
    "        memory = test_input[\"test_in\"]\n",
    "        ic = IntCode(memory)\n",
    "        ic.run()\n",
    "        assert len(ic.memory) == len(test_input[\"test_out\"]), \"Different array lens: %s, %s\" % (ic.memory,test_input[\"test_out\"])\n",
    "        for i in range(0,len(test_input[\"test_out\"])):\n",
    "            assert ic.memory[i] == test_input[\"test_out\"][i], \"Pos %d should be %d but was %d\" % (i,test_input[\"test_out\"][i],ic.memory[i])\n",
    "        \n",
    "def day1():\n",
    "    memory = inputs.copy()\n",
    "    memory[1] = 12\n",
    "    memory[2] = 2\n",
    "\n",
    "    ic = IntCode(memory)\n",
    "    ic.run()\n",
    "    print(\"Array at position 0 is %d\" % ic.memory[0])\n",
    "            \n",
    "test_day2_part1()\n",
    "day1()\n",
    "\n",
    "# ------------------------------------------------------------------------------------------\n",
    "\n",
    "def all_noun_verbs():\n",
    "    ic = IntCode(inputs)\n",
    "    for noun in range (0,100):\n",
    "        for verb in range (0,100):\n",
    "            ic.reset()\n",
    "            ic.memory[1] = noun\n",
    "            ic.memory[2] = verb\n",
    "            ic.run()\n",
    "            \n",
    "            if (ic.memory[0] == 19690720):\n",
    "                print( \"Found correct nounverb: %d\" % (noun*100 + verb))\n",
    "                return\n",
    "\n",
    "\n",
    "all_noun_verbs()"
   ]
  }
 ],
 "metadata": {
  "kernelspec": {
   "display_name": "Python 3",
   "language": "python",
   "name": "python3"
  },
  "language_info": {
   "codemirror_mode": {
    "name": "ipython",
    "version": 3
   },
   "file_extension": ".py",
   "mimetype": "text/x-python",
   "name": "python",
   "nbconvert_exporter": "python",
   "pygments_lexer": "ipython3",
   "version": "3.8.0"
  }
 },
 "nbformat": 4,
 "nbformat_minor": 2
}
