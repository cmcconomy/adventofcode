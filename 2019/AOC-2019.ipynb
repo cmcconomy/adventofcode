{
 "cells": [
  {
   "cell_type": "code",
   "execution_count": 1,
   "metadata": {},
   "outputs": [],
   "source": [
    "import pandas as pd\n",
    "import numpy as np\n",
    "\n",
    "from aocutils.get_aoc_inputs import get_aoc_inputs"
   ]
  },
  {
   "cell_type": "code",
   "execution_count": null,
   "metadata": {},
   "outputs": [],
   "source": [
    "if 'inputs' not in locals():\n",
    "    inputs = get_aoc_inputs()\n",
    "    \n",
    "test_inputs_1 = [\n",
    "    {\"test_in\":[], \"test_out\":[]},\n",
    "]\n",
    "    \n",
    "def test_part1():\n",
    "    for test_input in test_inputs_1:\n",
    "        ti = test_input[\"test_in\"]\n",
    "        assert 1==1, \"Good\"\n",
    "        \n",
    "def day1():\n",
    "    return\n",
    "            \n",
    "test_part1()\n",
    "# day1()\n",
    "\n",
    "# ------------------------------------------------------------------------------------------\n",
    "\n",
    "test_inputs_2 = [\n",
    "    {\"test_in\":[], \"test_out\":[]},\n",
    "]\n",
    "    \n",
    "def test_part2():\n",
    "    for test_input in test_inputs_2:\n",
    "        ti = test_input[\"test_in\"]\n",
    "        assert 1==1, \"Good\"\n",
    "        \n",
    "def day1():\n",
    "    return\n",
    "            \n",
    "# test_part2()\n",
    "# day2()\n",
    "\n"
   ]
  }
 ],
 "metadata": {
  "kernelspec": {
   "display_name": "Python 3",
   "language": "python",
   "name": "python3"
  },
  "language_info": {
   "codemirror_mode": {
    "name": "ipython",
    "version": 3
   },
   "file_extension": ".py",
   "mimetype": "text/x-python",
   "name": "python",
   "nbconvert_exporter": "python",
   "pygments_lexer": "ipython3",
   "version": "3.8.0"
  }
 },
 "nbformat": 4,
 "nbformat_minor": 2
}
