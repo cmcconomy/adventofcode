{
 "cells": [
  {
   "cell_type": "code",
   "execution_count": 77,
   "metadata": {},
   "outputs": [
    {
     "name": "stdout",
     "output_type": "stream",
     "text": [
      "The dotenv extension is already loaded. To reload it, use:\n",
      "  %reload_ext dotenv\n"
     ]
    }
   ],
   "source": [
    "%load_ext dotenv\n",
    "%dotenv\n",
    "\n",
    "import os;\n",
    "import requests;\n",
    "import pandas as pd;\n",
    "import numpy as np;"
   ]
  },
  {
   "cell_type": "code",
   "execution_count": 76,
   "metadata": {},
   "outputs": [],
   "source": [
    "# This section permits a lazy way to retrieve your personal inputs.\n",
    "# To make it work, log into AoC from your browser and go into developer options to look at your cookies\n",
    "# I know this works for logging in via github, but I don't know if it works for other auth styles.\n",
    "# Note the following cookie values: _ga, _gid, and session.\n",
    "#\n",
    "# Create a file in the root of this project folder called \".env\" and in it, put the following:\n",
    "# AOC_GA=9243572943857293478529084\n",
    "# AOC_GID=004785928437508347502384534\n",
    "# AOC_SESSION=840372b93dj387023n729c5304857fj20f\n",
    "# where the values match your actual login params.\n",
    "\n",
    "def get_inputs(day):\n",
    "    url=\"https://adventofcode.com/2019/day/%d/input\" % day\n",
    "    \n",
    "    cookies = {\n",
    "        '_ga': os.getenv(\"AOC_GA\"),\n",
    "        '_gid': os.getenv(\"AOC_GID\"),\n",
    "        'session': os.getenv(\"AOC_SESSION\"),\n",
    "    }\n",
    "    return requests.get(url,cookies=cookies).text.split()"
   ]
  },
  {
   "cell_type": "code",
   "execution_count": 75,
   "metadata": {},
   "outputs": [
    {
     "name": "stdout",
     "output_type": "stream",
     "text": [
      "Part 1 test successful\n",
      "3363760\n",
      "Part 2 test successful\n",
      "5042767\n"
     ]
    }
   ],
   "source": [
    "# Day 1\n",
    "\n",
    "if 'inputs_1' not in locals():\n",
    "    inputs_1 = get_inputs(1)\n",
    "\n",
    "def get_fuel(mass):\n",
    "    fuel = mass/3\n",
    "    fuel = int(fuel) - 2\n",
    "    return fuel\n",
    "    \n",
    "def test_get_fuel(mass,fuel):\n",
    "    tested_fuel = get_fuel(mass)\n",
    "    assert tested_fuel == fuel, \"Fuel for %d should be %d but was %d\" % (mass, fuel, tested_fuel)\n",
    "\n",
    "def test_part1():\n",
    "    test_get_fuel(12,2)\n",
    "    test_get_fuel(14,2)\n",
    "    test_get_fuel(1969,654)\n",
    "    test_get_fuel(100756,33583)\n",
    "    print(\"Part 1 test successful\")\n",
    "    \n",
    "def day1():\n",
    "    test_part1();\n",
    "    total_fuel = 0;\n",
    "    for input in inputs_1:\n",
    "        total_fuel = total_fuel + get_fuel(int(input))\n",
    "        \n",
    "    print(total_fuel)\n",
    "\n",
    "# ------------------------------------------------------------------------------------------\n",
    "\n",
    "def fuel_for_fuel(fuel, total_extra_fuel=0):\n",
    "    extra_fuel = get_fuel(fuel)\n",
    "    if extra_fuel <= 0:\n",
    "        return total_extra_fuel\n",
    "    else:\n",
    "        total_extra_fuel += extra_fuel\n",
    "        return fuel_for_fuel(extra_fuel,total_extra_fuel)\n",
    "\n",
    "def test_fuel_for_fuel(mass,fuel):\n",
    "    tested_fuel = get_fuel(mass)\n",
    "    tested_fuel += fuel_for_fuel(tested_fuel)\n",
    "    assert tested_fuel == fuel, \"Fuel for %d should be %d but was %d\" % (mass, fuel, tested_fuel)\n",
    "\n",
    "def test_part2():\n",
    "    test_fuel_for_fuel(14,2)\n",
    "    test_fuel_for_fuel(1969,966)\n",
    "    test_fuel_for_fuel(100756,50346)\n",
    "    print(\"Part 2 test successful\")\n",
    "\n",
    "def day2():\n",
    "    test_part2();\n",
    "    total_fuel = 0;\n",
    "    for input in inputs_1:\n",
    "        fuel = get_fuel(int(input))\n",
    "        total_fuel = total_fuel + fuel + fuel_for_fuel(fuel)\n",
    "        \n",
    "    print(total_fuel)\n",
    "\n",
    "day1()\n",
    "day2()"
   ]
  }
 ],
 "metadata": {
  "kernelspec": {
   "display_name": "Python 3",
   "language": "python",
   "name": "python3"
  },
  "language_info": {
   "codemirror_mode": {
    "name": "ipython",
    "version": 3
   },
   "file_extension": ".py",
   "mimetype": "text/x-python",
   "name": "python",
   "nbconvert_exporter": "python",
   "pygments_lexer": "ipython3",
   "version": "3.8.0"
  }
 },
 "nbformat": 4,
 "nbformat_minor": 2
}
