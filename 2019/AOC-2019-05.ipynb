{
 "cells": [
  {
   "cell_type": "code",
   "execution_count": null,
   "metadata": {},
   "outputs": [],
   "source": [
    "import pandas as pd\n",
    "import numpy as np\n",
    "\n",
    "from aocutils.get_aoc_inputs import get_aoc_inputs\n",
    "from aocutils.IntCode import IntCode5"
   ]
  },
  {
   "cell_type": "code",
   "execution_count": 1,
   "metadata": {},
   "outputs": [
    {
     "name": "stdout",
     "output_type": "stream",
     "text": [
      "Part 1:\n",
      "Please enter the ID of the system to test: 1\n",
      "Diagnostic test output: 3\n",
      "Diagnostic test output: 0\n",
      "Diagnostic test output: 0\n",
      "Diagnostic test output: 0\n",
      "Diagnostic test output: 0\n",
      "Diagnostic test output: 0\n",
      "Diagnostic test output: 0\n",
      "Diagnostic test output: 0\n",
      "Diagnostic test output: 0\n",
      "Diagnostic test output: 13787043\n"
     ]
    }
   ],
   "source": [
    "import pandas as pd\n",
    "import numpy as np\n",
    "\n",
    "from aocutils.get_aoc_inputs import get_aoc_inputs\n",
    "from aocutils.IntCode import IntCode5\n",
    "\n",
    "if 'inputs' not in locals():\n",
    "# if True:\n",
    "    inputs = get_aoc_inputs(5)[0].split(',')\n",
    "    inputs = list(map(lambda num: int(num),inputs))\n",
    "\n",
    "    \n",
    "# test_inputs_1 = [\n",
    "#     {\"test_in\":[], \"test_out\":[]},\n",
    "# ]\n",
    "    \n",
    "# def test_part1():\n",
    "#     for test_input in test_inputs_1:\n",
    "#         ti = test_input[\"test_in\"]\n",
    "#         assert 1==1, \"Good\"\n",
    "#     print( \"Test Successful\")\n",
    "        \n",
    "def day1():\n",
    "    ic5 = IntCode5(inputs)\n",
    "    ic5.run()\n",
    "    return\n",
    "\n",
    "print( \"Part 1:\")\n",
    "# test_part1()\n",
    "day1()\n",
    "\n",
    "# ------------------------------------------------------------------------------------------\n",
    "\n",
    "test_inputs_2 = [\n",
    "    {\"test_in\":[], \"test_out\":[]},\n",
    "]\n",
    "    \n",
    "def test_part2():\n",
    "    for test_input in test_inputs_2:\n",
    "        ti = test_input[\"test_in\"]\n",
    "        assert 1==1, \"Good\"\n",
    "        \n",
    "def day2():\n",
    "    return\n",
    "            \n",
    "# print( \"Part 2:\")\n",
    "# test_part2()\n",
    "# day2()\n",
    "\n"
   ]
  },
  {
   "cell_type": "code",
   "execution_count": null,
   "metadata": {},
   "outputs": [],
   "source": []
  },
  {
   "cell_type": "code",
   "execution_count": null,
   "metadata": {},
   "outputs": [],
   "source": []
  }
 ],
 "metadata": {
  "kernelspec": {
   "display_name": "Python 3",
   "language": "python",
   "name": "python3"
  },
  "language_info": {
   "codemirror_mode": {
    "name": "ipython",
    "version": 3
   },
   "file_extension": ".py",
   "mimetype": "text/x-python",
   "name": "python",
   "nbconvert_exporter": "python",
   "pygments_lexer": "ipython3",
   "version": "3.8.0"
  }
 },
 "nbformat": 4,
 "nbformat_minor": 2
}
